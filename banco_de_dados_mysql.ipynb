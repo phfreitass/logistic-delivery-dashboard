{
 "cells": [
  {
   "cell_type": "markdown",
   "metadata": {},
   "source": [
    "### Import"
   ]
  },
  {
   "cell_type": "code",
   "execution_count": 42,
   "metadata": {},
   "outputs": [],
   "source": [
    "from mysql.connector import connect"
   ]
  },
  {
   "cell_type": "markdown",
   "metadata": {},
   "source": [
    "### Conectar MySQL com Python"
   ]
  },
  {
   "cell_type": "code",
   "execution_count": 55,
   "metadata": {},
   "outputs": [],
   "source": [
    "# função de nome mysql_connection, com os parâmetros necessários para conexão.\n",
    "def mysql_connection(host, user, passwd, database=None):\n",
    "    connection = connect(\n",
    "        host = \"bkeibksx4bfyzvvesn5v-mysql.services.clever-cloud.com\",\n",
    "        user = \"uk6ktgdiykiyzgb8\",\n",
    "        passwd = \"muQWdg8gzI0SWSsnTcfy\",\n",
    "        database = \"bkeibksx4bfyzvvesn5v\"\n",
    "    )\n",
    "    return connection"
   ]
  },
  {
   "cell_type": "code",
   "execution_count": 56,
   "metadata": {},
   "outputs": [],
   "source": [
    "# chamada da função mysql_connection, criada anteriormente, passando os parâmetros necessários.\n",
    "connection = mysql_connection('localhost', 'root', 'mysql123', \"logistica\")"
   ]
  },
  {
   "cell_type": "markdown",
   "metadata": {},
   "source": [
    "### Estrutura de Dados MySQL com Python"
   ]
  },
  {
   "cell_type": "code",
   "execution_count": 47,
   "metadata": {},
   "outputs": [],
   "source": [
    "# criação da tabela Viagens na base de dados logistica\n",
    "query = '''\n",
    "CREATE TABLE Viagens (\n",
    "  id int(11) NOT NULL AUTO_INCREMENT,\n",
    "  id_motorista int(11) DEFAULT NULL,\n",
    "  destino varchar(45) COLLATE utf8_unicode_ci DEFAULT NULL,\n",
    "  data_saida date DEFAULT NULL,\n",
    "  hora_saida time DEFAULT NULL,\n",
    "  data_chegada date DEFAULT NULL,\n",
    "  hora_chegada time DEFAULT NULL,\n",
    "  valor float DEFAULT NULL,\n",
    "  PRIMARY KEY (id)\n",
    ") ENGINE=MyISAM AUTO_INCREMENT=27 DEFAULT CHARSET=utf8 COLLATE=utf8_unicode_ci;\n",
    "'''\n",
    "cursor = connection.cursor()\n",
    "cursor.execute(query)"
   ]
  },
  {
   "cell_type": "code",
   "execution_count": 50,
   "metadata": {},
   "outputs": [],
   "source": [
    "# inserindo os dados na tabela Viagens\n",
    "query = '''\n",
    "    INSERT INTO Viagens VALUES  (1,3,'SP - Sumaré','2020-12-29','08:00:00','2021-01-02','10:00:00',30000),\n",
    "                                (2,2,'SP - Campinas','2020-12-30','16:45:00','2021-01-01','20:30:00',40000),\n",
    "                                (3,4,'RJ - Rio de Janeiro','2021-01-01','06:00:00','2021-01-03','22:15:00',5000),\n",
    "                                (4,5,'BA - Salvador','2021-01-01','07:45:00','2021-01-04','03:00:00',2500),\n",
    "                                (5,1,'SP - Campinas','2021-01-01','20:00:00','2021-01-02','04:00:00',15000),\n",
    "                                (6,1,'SP - Araraquara','2021-01-02','08:00:00','2021-01-06','23:30:00',10000),\n",
    "                                (7,6,'SP - Ribeirão Preto','2021-01-02','16:00:00','2021-01-05','23:00:00',3000),\n",
    "                                (8,2,'MG - Pouso Alegre','2021-01-05','10:00:00','2021-01-09','05:00:00',20000),\n",
    "                                (9,3,'SP - Campinas','2021-01-09','02:15:00','2021-01-09','06:00:00',25000),\n",
    "                                (10,6,'SP - São Paulo','2021-01-09','04:00:00','2021-01-09','09:15:00',70000),\n",
    "                                (11,5,'SP - Campinas','2021-01-09','17:00:00','2021-01-09','22:30:00',50000),\n",
    "                                (12,1,'SP - Guarulhos','2021-01-09','21:30:00','2021-01-10','01:45:00',80000),\n",
    "                                (13,2,'PB - João Pessoa','2021-01-12','15:00:00','2021-01-15','12:00:00',100000),\n",
    "                                (14,4,'SP - Campinas','2021-01-12','15:00:00','2021-01-13','18:00:00',110000),\n",
    "                                (15,1,'SP - Campinas','2021-01-15','23:30:00','2021-01-20','20:30:00',150000),\n",
    "                                (16,2,'MG - Pouso Alegre','2021-01-16','22:00:00','2021-01-23','22:15:00',50000),\n",
    "                                (17,4,'ES - Vitória','2021-01-18','21:15:00','2021-01-19','22:45:00',20000),\n",
    "                                (18,5,'ES - Vitória','2021-01-19','20:00:00','2021-01-19','23:00:00',10000),\n",
    "                                (19,1,'MG - Pouso Alegre','2021-01-21','08:30:00','2021-01-22','00:00:00',180000),\n",
    "                                (20,6,'SP - Campinas','2021-01-22','01:00:00','2021-01-22','05:45:00',120000),\n",
    "                                (21,3,'SP - Campinas','2021-01-25','09:00:00','2021-01-30','16:00:00',80000),\n",
    "                                (22,5,'RN - Natal','2021-01-25','11:45:00','2021-01-26','15:00:00',60000),\n",
    "                                (23,2,'SP - Campinas','2021-01-28','07:45:00','2021-01-29','18:15:00',90000),\n",
    "                                (24,4,'SP - Campinas','2021-01-30','00:30:00','2021-02-01','22:00:00',10000),\n",
    "                                (25,6,'ES - Vitória','2021-01-30','01:30:00','2021-02-02','15:00:00',130000),\n",
    "                                (26,1,'RN - Natal','2021-01-30','20:00:00','2021-01-30','23:45:00',115000);\n",
    "'''\n",
    "cursor = connection.cursor()\n",
    "cursor.execute(query)\n",
    "connection.commit()"
   ]
  },
  {
   "cell_type": "code",
   "execution_count": 52,
   "metadata": {},
   "outputs": [
    {
     "name": "stdout",
     "output_type": "stream",
     "text": [
      "(1, 3, 'SP - Sumaré', datetime.date(2020, 12, 29), datetime.timedelta(seconds=28800), datetime.date(2021, 1, 2), datetime.timedelta(seconds=36000), 30000.0)\n",
      "(2, 2, 'SP - Campinas', datetime.date(2020, 12, 30), datetime.timedelta(seconds=60300), datetime.date(2021, 1, 1), datetime.timedelta(seconds=73800), 40000.0)\n",
      "(3, 4, 'RJ - Rio de Janeiro', datetime.date(2021, 1, 1), datetime.timedelta(seconds=21600), datetime.date(2021, 1, 3), datetime.timedelta(seconds=80100), 5000.0)\n",
      "(4, 5, 'BA - Salvador', datetime.date(2021, 1, 1), datetime.timedelta(seconds=27900), datetime.date(2021, 1, 4), datetime.timedelta(seconds=10800), 2500.0)\n",
      "(5, 1, 'SP - Campinas', datetime.date(2021, 1, 1), datetime.timedelta(seconds=72000), datetime.date(2021, 1, 2), datetime.timedelta(seconds=14400), 15000.0)\n",
      "(6, 1, 'SP - Araraquara', datetime.date(2021, 1, 2), datetime.timedelta(seconds=28800), datetime.date(2021, 1, 6), datetime.timedelta(seconds=84600), 10000.0)\n",
      "(7, 6, 'SP - Ribeirão Preto', datetime.date(2021, 1, 2), datetime.timedelta(seconds=57600), datetime.date(2021, 1, 5), datetime.timedelta(seconds=82800), 3000.0)\n",
      "(8, 2, 'MG - Pouso Alegre', datetime.date(2021, 1, 5), datetime.timedelta(seconds=36000), datetime.date(2021, 1, 9), datetime.timedelta(seconds=18000), 20000.0)\n",
      "(9, 3, 'SP - Campinas', datetime.date(2021, 1, 9), datetime.timedelta(seconds=8100), datetime.date(2021, 1, 9), datetime.timedelta(seconds=21600), 25000.0)\n",
      "(10, 6, 'SP - São Paulo', datetime.date(2021, 1, 9), datetime.timedelta(seconds=14400), datetime.date(2021, 1, 9), datetime.timedelta(seconds=33300), 70000.0)\n",
      "(11, 5, 'SP - Campinas', datetime.date(2021, 1, 9), datetime.timedelta(seconds=61200), datetime.date(2021, 1, 9), datetime.timedelta(seconds=81000), 50000.0)\n",
      "(12, 1, 'SP - Guarulhos', datetime.date(2021, 1, 9), datetime.timedelta(seconds=77400), datetime.date(2021, 1, 10), datetime.timedelta(seconds=6300), 80000.0)\n",
      "(13, 2, 'PB - João Pessoa', datetime.date(2021, 1, 12), datetime.timedelta(seconds=54000), datetime.date(2021, 1, 15), datetime.timedelta(seconds=43200), 100000.0)\n",
      "(14, 4, 'SP - Campinas', datetime.date(2021, 1, 12), datetime.timedelta(seconds=54000), datetime.date(2021, 1, 13), datetime.timedelta(seconds=64800), 110000.0)\n",
      "(15, 1, 'SP - Campinas', datetime.date(2021, 1, 15), datetime.timedelta(seconds=84600), datetime.date(2021, 1, 20), datetime.timedelta(seconds=73800), 150000.0)\n",
      "(16, 2, 'MG - Pouso Alegre', datetime.date(2021, 1, 16), datetime.timedelta(seconds=79200), datetime.date(2021, 1, 23), datetime.timedelta(seconds=80100), 50000.0)\n",
      "(17, 4, 'ES - Vitória', datetime.date(2021, 1, 18), datetime.timedelta(seconds=76500), datetime.date(2021, 1, 19), datetime.timedelta(seconds=81900), 20000.0)\n",
      "(18, 5, 'ES - Vitória', datetime.date(2021, 1, 19), datetime.timedelta(seconds=72000), datetime.date(2021, 1, 19), datetime.timedelta(seconds=82800), 10000.0)\n",
      "(19, 1, 'MG - Pouso Alegre', datetime.date(2021, 1, 21), datetime.timedelta(seconds=30600), datetime.date(2021, 1, 22), datetime.timedelta(0), 180000.0)\n",
      "(20, 6, 'SP - Campinas', datetime.date(2021, 1, 22), datetime.timedelta(seconds=3600), datetime.date(2021, 1, 22), datetime.timedelta(seconds=20700), 120000.0)\n",
      "(21, 3, 'SP - Campinas', datetime.date(2021, 1, 25), datetime.timedelta(seconds=32400), datetime.date(2021, 1, 30), datetime.timedelta(seconds=57600), 80000.0)\n",
      "(22, 5, 'RN - Natal', datetime.date(2021, 1, 25), datetime.timedelta(seconds=42300), datetime.date(2021, 1, 26), datetime.timedelta(seconds=54000), 60000.0)\n",
      "(23, 2, 'SP - Campinas', datetime.date(2021, 1, 28), datetime.timedelta(seconds=27900), datetime.date(2021, 1, 29), datetime.timedelta(seconds=65700), 90000.0)\n",
      "(24, 4, 'SP - Campinas', datetime.date(2021, 1, 30), datetime.timedelta(seconds=1800), datetime.date(2021, 2, 1), datetime.timedelta(seconds=79200), 10000.0)\n",
      "(25, 6, 'ES - Vitória', datetime.date(2021, 1, 30), datetime.timedelta(seconds=5400), datetime.date(2021, 2, 2), datetime.timedelta(seconds=54000), 130000.0)\n",
      "(26, 1, 'RN - Natal', datetime.date(2021, 1, 30), datetime.timedelta(seconds=72000), datetime.date(2021, 1, 30), datetime.timedelta(seconds=85500), 115000.0)\n"
     ]
    }
   ],
   "source": [
    "# Consultando os dados da tabela Viagens\n",
    "query = '''\n",
    "    SELECT * FROM Viagens\n",
    "'''\n",
    "cursor = connection.cursor()\n",
    "cursor.execute(query)\n",
    "result = cursor.fetchall()\n",
    "for row in result:\n",
    "  print(row)"
   ]
  },
  {
   "cell_type": "code",
   "execution_count": 53,
   "metadata": {},
   "outputs": [
    {
     "name": "stdout",
     "output_type": "stream",
     "text": [
      "('id', 'id_motorista', 'destino', 'data_saida', 'hora_saida', 'data_chegada', 'hora_chegada', 'valor')\n"
     ]
    }
   ],
   "source": [
    "# conferindo as colunas da tabela Viagens\n",
    "columns = tuple([i[0] for i in cursor.description])\n",
    "print(columns)"
   ]
  },
  {
   "cell_type": "code",
   "execution_count": 57,
   "metadata": {},
   "outputs": [],
   "source": [
    "# Criando a tabela Motoristas\n",
    "query = '''\n",
    "CREATE TABLE Motoristas (\n",
    "  id int(11) NOT NULL AUTO_INCREMENT,\n",
    "  nome varchar(45) COLLATE utf8_unicode_ci DEFAULT NULL,\n",
    "  foto varchar(245) COLLATE utf8_unicode_ci DEFAULT NULL,\n",
    "  ficha varchar(245) COLLATE utf8_unicode_ci DEFAULT NULL,\n",
    "  PRIMARY KEY (id)\n",
    ") ENGINE=MyISAM AUTO_INCREMENT=7 DEFAULT CHARSET=utf8 COLLATE=utf8_unicode_ci;\n",
    "'''\n",
    "cursor = connection.cursor()\n",
    "cursor.execute(query)"
   ]
  },
  {
   "cell_type": "code",
   "execution_count": 58,
   "metadata": {},
   "outputs": [],
   "source": [
    "# inserindo os dados na tabela Motoristas\n",
    "query = '''\n",
    "    INSERT INTO Motoristas VALUES   (1,'José','https://ayltoninacio.com.br/download/curso-gds/img/m1.jpg','https://ayltoninacio.com.br/download/curso-gds/motorista.php?id=1'),\n",
    "                                    (2,'Maria','https://ayltoninacio.com.br/download/curso-gds/img/m2.jpg','https://ayltoninacio.com.br/download/curso-gds/motorista.php?id=2'),\n",
    "                                    (3,'Pedro','https://ayltoninacio.com.br/download/curso-gds/img/m3.jpg','https://ayltoninacio.com.br/download/curso-gds/motorista.php?id=3'),\n",
    "                                    (4,'Marcos','https://ayltoninacio.com.br/download/curso-gds/img/m4.jpg','https://ayltoninacio.com.br/download/curso-gds/motorista.php?id=4'),\n",
    "                                    (5,'Manoel','https://ayltoninacio.com.br/download/curso-gds/img/m5.jpg','https://ayltoninacio.com.br/download/curso-gds/motorista.php?id=5'),\n",
    "                                    (6,'Cristina','https://ayltoninacio.com.br/download/curso-gds/img/m6.jpg','https://ayltoninacio.com.br/download/curso-gds/motorista.php?id=6');\n",
    "'''\n",
    "cursor = connection.cursor()\n",
    "cursor.execute(query)\n",
    "connection.commit()"
   ]
  },
  {
   "cell_type": "code",
   "execution_count": 59,
   "metadata": {},
   "outputs": [
    {
     "name": "stdout",
     "output_type": "stream",
     "text": [
      "(1, 'José', 'https://ayltoninacio.com.br/download/curso-gds/img/m1.jpg', 'https://ayltoninacio.com.br/download/curso-gds/motorista.php?id=1')\n",
      "(2, 'Maria', 'https://ayltoninacio.com.br/download/curso-gds/img/m2.jpg', 'https://ayltoninacio.com.br/download/curso-gds/motorista.php?id=2')\n",
      "(3, 'Pedro', 'https://ayltoninacio.com.br/download/curso-gds/img/m3.jpg', 'https://ayltoninacio.com.br/download/curso-gds/motorista.php?id=3')\n",
      "(4, 'Marcos', 'https://ayltoninacio.com.br/download/curso-gds/img/m4.jpg', 'https://ayltoninacio.com.br/download/curso-gds/motorista.php?id=4')\n",
      "(5, 'Manoel', 'https://ayltoninacio.com.br/download/curso-gds/img/m5.jpg', 'https://ayltoninacio.com.br/download/curso-gds/motorista.php?id=5')\n",
      "(6, 'Cristina', 'https://ayltoninacio.com.br/download/curso-gds/img/m6.jpg', 'https://ayltoninacio.com.br/download/curso-gds/motorista.php?id=6')\n"
     ]
    }
   ],
   "source": [
    "# # Consultando os dados da tabela Motoristas\n",
    "query = '''\n",
    "    SELECT * FROM Motoristas\n",
    "'''\n",
    "cursor = connection.cursor()\n",
    "cursor.execute(query)\n",
    "result = cursor.fetchall()\n",
    "for row in result:\n",
    "  print(row)"
   ]
  },
  {
   "cell_type": "code",
   "execution_count": 60,
   "metadata": {},
   "outputs": [
    {
     "name": "stdout",
     "output_type": "stream",
     "text": [
      "('id', 'nome', 'foto', 'ficha')\n"
     ]
    }
   ],
   "source": [
    "# Conferindo as colunas da tabela Motoristas\n",
    "columns = tuple([i[0] for i in cursor.description])\n",
    "print(columns)"
   ]
  },
  {
   "cell_type": "code",
   "execution_count": 61,
   "metadata": {},
   "outputs": [],
   "source": [
    "# encerrando a conexão\n",
    "connection.close()"
   ]
  }
 ],
 "metadata": {
  "kernelspec": {
   "display_name": "base",
   "language": "python",
   "name": "python3"
  },
  "language_info": {
   "codemirror_mode": {
    "name": "ipython",
    "version": 3
   },
   "file_extension": ".py",
   "mimetype": "text/x-python",
   "name": "python",
   "nbconvert_exporter": "python",
   "pygments_lexer": "ipython3",
   "version": "3.9.17"
  }
 },
 "nbformat": 4,
 "nbformat_minor": 2
}
